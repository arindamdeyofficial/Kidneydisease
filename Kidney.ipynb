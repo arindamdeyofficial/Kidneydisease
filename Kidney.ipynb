{
 "cells": [
  {
   "cell_type": "code",
   "execution_count": 292,
   "metadata": {},
   "outputs": [],
   "source": [
    "import pandas as pd\n",
    "import numpy as np\n",
    "from sklearn.model_selection import train_test_split"
   ]
  },
  {
   "cell_type": "code",
   "execution_count": 2,
   "metadata": {},
   "outputs": [
    {
     "name": "stdout",
     "output_type": "stream",
     "text": [
      "C:\\Users\\Anirban\\Downloads\\Assignment_BLR\n"
     ]
    }
   ],
   "source": [
    "#Creating workstation #\n",
    "cd \"C:\\Users\\Anirban\\Downloads\\Assignment_BLR\""
   ]
  },
  {
   "cell_type": "code",
   "execution_count": 339,
   "metadata": {},
   "outputs": [],
   "source": [
    "#Read the csv file #\n",
    "kidney=pd.read_csv('kidneyChronic.csv')"
   ]
  },
  {
   "cell_type": "code",
   "execution_count": 340,
   "metadata": {},
   "outputs": [],
   "source": [
    "#Replacing the missing data with 0\n",
    "kidney=kidney.replace(to_replace='?', value=0)\n",
    "kidney[\"pcv\"][66]=0\n",
    "kidney[\"wbcc\"][185]=0\n",
    "kidney[\"rbcc\"][162]=0"
   ]
  },
  {
   "cell_type": "code",
   "execution_count": 341,
   "metadata": {},
   "outputs": [],
   "source": [
    "#Type casting for numeric values #\n",
    "\n",
    "#'age','bp','sg','al','su','bu','sc','bgr','sod','pot','hemo','pcv','wbcc','rbcc'\n",
    "\n",
    "kidney[\"age\"]=kidney[\"age\"].astype(int)\n",
    "kidney[\"bp\"]=kidney[\"bp\"].astype(float)\n",
    "kidney[\"sg\"]=kidney[\"sg\"].astype(float)\n",
    "kidney[\"al\"]=kidney[\"al\"].astype(float)\n",
    "kidney[\"su\"]=kidney[\"su\"].astype(float)\n",
    "kidney[\"bu\"]=kidney[\"bu\"].astype(float)\n",
    "kidney[\"sc\"]=kidney[\"sc\"].astype(float)\n",
    "kidney[\"bgr\"]=kidney[\"bgr\"].astype(float)\n",
    "kidney[\"sod\"]=kidney[\"sod\"].astype(float)\n",
    "kidney[\"pot\"]=kidney[\"pot\"].astype(float)\n",
    "kidney[\"hemo\"]=kidney[\"hemo\"].astype(float)\n",
    "kidney[\"pcv\"]=kidney[\"pcv\"].astype(float)\n",
    "kidney[\"wbcc\"]=kidney[\"wbcc\"].astype(float)\n",
    "kidney[\"rbcc\"]=kidney[\"rbcc\"].astype(float)"
   ]
  },
  {
   "cell_type": "code",
   "execution_count": 287,
   "metadata": {},
   "outputs": [
    {
     "data": {
      "text/html": [
       "<div>\n",
       "<style scoped>\n",
       "    .dataframe tbody tr th:only-of-type {\n",
       "        vertical-align: middle;\n",
       "    }\n",
       "\n",
       "    .dataframe tbody tr th {\n",
       "        vertical-align: top;\n",
       "    }\n",
       "\n",
       "    .dataframe thead th {\n",
       "        text-align: right;\n",
       "    }\n",
       "</style>\n",
       "<table border=\"1\" class=\"dataframe\">\n",
       "  <thead>\n",
       "    <tr style=\"text-align: right;\">\n",
       "      <th></th>\n",
       "      <th>age</th>\n",
       "      <th>bp</th>\n",
       "      <th>sg</th>\n",
       "      <th>al</th>\n",
       "      <th>su</th>\n",
       "      <th>rbc</th>\n",
       "      <th>pc</th>\n",
       "      <th>pcc</th>\n",
       "      <th>ba</th>\n",
       "      <th>bgr</th>\n",
       "      <th>...</th>\n",
       "      <th>pcv</th>\n",
       "      <th>wbcc</th>\n",
       "      <th>rbcc</th>\n",
       "      <th>htn</th>\n",
       "      <th>dm</th>\n",
       "      <th>cad</th>\n",
       "      <th>appet</th>\n",
       "      <th>pe</th>\n",
       "      <th>ane</th>\n",
       "      <th>class</th>\n",
       "    </tr>\n",
       "  </thead>\n",
       "  <tbody>\n",
       "    <tr>\n",
       "      <th>0</th>\n",
       "      <td>48</td>\n",
       "      <td>80.0</td>\n",
       "      <td>1.020</td>\n",
       "      <td>1.0</td>\n",
       "      <td>0.395</td>\n",
       "      <td>normal</td>\n",
       "      <td>normal</td>\n",
       "      <td>notpresent</td>\n",
       "      <td>notpresent</td>\n",
       "      <td>121.0</td>\n",
       "      <td>...</td>\n",
       "      <td>44.0</td>\n",
       "      <td>7800.0</td>\n",
       "      <td>5.20000</td>\n",
       "      <td>yes</td>\n",
       "      <td>yes</td>\n",
       "      <td>no</td>\n",
       "      <td>good</td>\n",
       "      <td>no</td>\n",
       "      <td>no</td>\n",
       "      <td>ckd</td>\n",
       "    </tr>\n",
       "    <tr>\n",
       "      <th>1</th>\n",
       "      <td>7</td>\n",
       "      <td>50.0</td>\n",
       "      <td>1.020</td>\n",
       "      <td>4.0</td>\n",
       "      <td>0.395</td>\n",
       "      <td>normal</td>\n",
       "      <td>normal</td>\n",
       "      <td>notpresent</td>\n",
       "      <td>notpresent</td>\n",
       "      <td>131.0</td>\n",
       "      <td>...</td>\n",
       "      <td>38.0</td>\n",
       "      <td>6000.0</td>\n",
       "      <td>3.16575</td>\n",
       "      <td>no</td>\n",
       "      <td>no</td>\n",
       "      <td>no</td>\n",
       "      <td>good</td>\n",
       "      <td>no</td>\n",
       "      <td>no</td>\n",
       "      <td>ckd</td>\n",
       "    </tr>\n",
       "    <tr>\n",
       "      <th>2</th>\n",
       "      <td>62</td>\n",
       "      <td>80.0</td>\n",
       "      <td>1.010</td>\n",
       "      <td>2.0</td>\n",
       "      <td>3.000</td>\n",
       "      <td>normal</td>\n",
       "      <td>normal</td>\n",
       "      <td>notpresent</td>\n",
       "      <td>notpresent</td>\n",
       "      <td>423.0</td>\n",
       "      <td>...</td>\n",
       "      <td>31.0</td>\n",
       "      <td>7500.0</td>\n",
       "      <td>3.16575</td>\n",
       "      <td>no</td>\n",
       "      <td>yes</td>\n",
       "      <td>no</td>\n",
       "      <td>poor</td>\n",
       "      <td>no</td>\n",
       "      <td>yes</td>\n",
       "      <td>ckd</td>\n",
       "    </tr>\n",
       "    <tr>\n",
       "      <th>3</th>\n",
       "      <td>48</td>\n",
       "      <td>70.0</td>\n",
       "      <td>1.005</td>\n",
       "      <td>4.0</td>\n",
       "      <td>0.395</td>\n",
       "      <td>normal</td>\n",
       "      <td>abnormal</td>\n",
       "      <td>present</td>\n",
       "      <td>notpresent</td>\n",
       "      <td>117.0</td>\n",
       "      <td>...</td>\n",
       "      <td>32.0</td>\n",
       "      <td>6700.0</td>\n",
       "      <td>3.90000</td>\n",
       "      <td>yes</td>\n",
       "      <td>no</td>\n",
       "      <td>no</td>\n",
       "      <td>poor</td>\n",
       "      <td>yes</td>\n",
       "      <td>yes</td>\n",
       "      <td>ckd</td>\n",
       "    </tr>\n",
       "    <tr>\n",
       "      <th>4</th>\n",
       "      <td>51</td>\n",
       "      <td>80.0</td>\n",
       "      <td>1.010</td>\n",
       "      <td>2.0</td>\n",
       "      <td>0.395</td>\n",
       "      <td>normal</td>\n",
       "      <td>normal</td>\n",
       "      <td>notpresent</td>\n",
       "      <td>notpresent</td>\n",
       "      <td>106.0</td>\n",
       "      <td>...</td>\n",
       "      <td>35.0</td>\n",
       "      <td>7300.0</td>\n",
       "      <td>4.60000</td>\n",
       "      <td>no</td>\n",
       "      <td>no</td>\n",
       "      <td>no</td>\n",
       "      <td>good</td>\n",
       "      <td>no</td>\n",
       "      <td>no</td>\n",
       "      <td>ckd</td>\n",
       "    </tr>\n",
       "  </tbody>\n",
       "</table>\n",
       "<p>5 rows × 25 columns</p>\n",
       "</div>"
      ],
      "text/plain": [
       "   age    bp     sg   al     su     rbc        pc         pcc          ba  \\\n",
       "0   48  80.0  1.020  1.0  0.395  normal    normal  notpresent  notpresent   \n",
       "1    7  50.0  1.020  4.0  0.395  normal    normal  notpresent  notpresent   \n",
       "2   62  80.0  1.010  2.0  3.000  normal    normal  notpresent  notpresent   \n",
       "3   48  70.0  1.005  4.0  0.395  normal  abnormal     present  notpresent   \n",
       "4   51  80.0  1.010  2.0  0.395  normal    normal  notpresent  notpresent   \n",
       "\n",
       "     bgr  ...    pcv    wbcc     rbcc  htn   dm  cad  appet   pe  ane class  \n",
       "0  121.0  ...   44.0  7800.0  5.20000  yes  yes   no   good   no   no   ckd  \n",
       "1  131.0  ...   38.0  6000.0  3.16575   no   no   no   good   no   no   ckd  \n",
       "2  423.0  ...   31.0  7500.0  3.16575   no  yes   no   poor   no  yes   ckd  \n",
       "3  117.0  ...   32.0  6700.0  3.90000  yes   no   no   poor  yes  yes   ckd  \n",
       "4  106.0  ...   35.0  7300.0  4.60000   no   no   no   good   no   no   ckd  \n",
       "\n",
       "[5 rows x 25 columns]"
      ]
     },
     "execution_count": 287,
     "metadata": {},
     "output_type": "execute_result"
    }
   ],
   "source": [
    "#replacing the numeric missing values with mean ##\n",
    "\n",
    "kidney['bgr'] =kidney.bgr.replace(0, kidney.bgr.mean())\n",
    "kidney['age'] =kidney.age.replace(0, kidney.age.mean())\n",
    "kidney['bp'] =kidney.bp.replace(0, kidney.bp.mean())\n",
    "kidney['sg'] =kidney.sg.replace(0, kidney.sg.mean())\n",
    "kidney['al'] =kidney.al.replace(0, kidney.al.mean())\n",
    "kidney['su'] =kidney.su.replace(0, kidney.su.mean())\n",
    "kidney['bu'] =kidney.bu.replace(0, kidney.bu.mean())\n",
    "kidney['sc'] =kidney.sc.replace(0, kidney.sc.mean())\n",
    "kidney['sod'] =kidney.sod.replace(0, kidney.sod.mean())\n",
    "kidney['pot'] =kidney.pot.replace(0, kidney.pot.mean())\n",
    "kidney['hemo'] =kidney.hemo.replace(0, kidney.hemo.mean())\n",
    "kidney['pcv'] =kidney.pcv.replace(0, kidney.pcv.mean())\n",
    "kidney['wbcc'] =kidney.wbcc.replace(0, kidney.wbcc.mean())\n",
    "kidney['rbcc'] =kidney.rbcc.replace(0, kidney.rbcc.mean())\n",
    "kidney.head()"
   ]
  },
  {
   "cell_type": "code",
   "execution_count": 274,
   "metadata": {},
   "outputs": [],
   "source": [
    "#kidney.dtypes"
   ]
  },
  {
   "cell_type": "code",
   "execution_count": 345,
   "metadata": {},
   "outputs": [],
   "source": [
    "#Replaing non-numeric values with mode #\n",
    "\n",
    "#'rbc','pc','pcc','ba','htn','dm','cad','appet','pe','ane'\n",
    "\n",
    "kidney['pc']=kidney.pc.replace( 0, kidney['pc'].mode()[0])\n",
    "kidney['pcc']=kidney.pcc.replace( 0, kidney['pcc'].mode()[0])\n",
    "kidney['ba']=kidney.ba.replace( 0, kidney['ba'].mode()[0])\n",
    "kidney['htn']=kidney.htn.replace( 0, kidney['htn'].mode()[0])\n",
    "kidney['dm']=kidney.dm.replace( 0, kidney['dm'].mode()[0])\n",
    "kidney['cad']=kidney.cad.replace( 0, kidney['cad'].mode()[0])\n",
    "kidney['appet']=kidney.appet.replace( 0, kidney['appet'].mode()[0])\n",
    "kidney['pe']=kidney.pe.replace( 0, kidney['pe'].mode()[0])\n",
    "kidney['ane']=kidney.ane.replace( 0, kidney['ane'].mode()[0])\n",
    "kidney['rbc'] =kidney.rbc.replace( 0, kidney['rbc'].mode()[0])\n"
   ]
  },
  {
   "cell_type": "code",
   "execution_count": 367,
   "metadata": {},
   "outputs": [],
   "source": [
    "\n",
    "#creating dummy variables for character data ##\n",
    "\n",
    "kidney_dummy = pd.get_dummies(kidney, columns=['rbc','pc','pcc','ba','htn','dm','cad','appet','pe','ane'], drop_first=True)"
   ]
  },
  {
   "cell_type": "code",
   "execution_count": 368,
   "metadata": {},
   "outputs": [
    {
     "data": {
      "text/plain": [
       "Index(['age', 'bp', 'sg', 'al', 'su', 'bgr', 'bu', 'sc', 'sod', 'pot', 'hemo',\n",
       "       'pcv', 'wbcc', 'rbcc', 'class', 'rbc_normal', 'pc_normal',\n",
       "       'pcc_present', 'ba_present', 'htn_yes', 'dm_\\tyes', 'dm_ yes', 'dm_no',\n",
       "       'dm_yes', 'cad_no', 'cad_yes', 'appet_poor', 'pe_yes', 'ane_yes'],\n",
       "      dtype='object')"
      ]
     },
     "execution_count": 368,
     "metadata": {},
     "output_type": "execute_result"
    }
   ],
   "source": [
    "Kidney_exclude_char=kidney.drop(['rbc','pc','pcc','ba','htn','dm','cad','appet','pe','ane'], axis=1)\n",
    "#kidney_dummy=pd.concat([Kidney_exclude_char,kidney_dummy],axis=1)\n",
    "#kidney_dummy.drop('class', axis=1)\n",
    "kidney_dummy.columns"
   ]
  },
  {
   "cell_type": "code",
   "execution_count": 369,
   "metadata": {},
   "outputs": [],
   "source": [
    "X=kidney_dummy.drop('class', axis=1)"
   ]
  },
  {
   "cell_type": "code",
   "execution_count": 370,
   "metadata": {},
   "outputs": [],
   "source": [
    "Y=kidney_dummy[\"class\"]"
   ]
  },
  {
   "cell_type": "code",
   "execution_count": 351,
   "metadata": {},
   "outputs": [],
   "source": [
    "#Segregating testing(20%) and training(80%) variables#\n",
    "X_train, X_test, Y_train, Y_test = train_test_split(X, Y, test_size=0.2, random_state=1)"
   ]
  },
  {
   "cell_type": "code",
   "execution_count": 352,
   "metadata": {},
   "outputs": [
    {
     "data": {
      "text/plain": [
       "(400, 29)"
      ]
     },
     "execution_count": 352,
     "metadata": {},
     "output_type": "execute_result"
    }
   ],
   "source": [
    "kidney_dummy.shape"
   ]
  },
  {
   "cell_type": "code",
   "execution_count": 353,
   "metadata": {},
   "outputs": [
    {
     "data": {
      "text/plain": [
       "(320, 28)"
      ]
     },
     "execution_count": 353,
     "metadata": {},
     "output_type": "execute_result"
    }
   ],
   "source": [
    "X_train.shape"
   ]
  },
  {
   "cell_type": "code",
   "execution_count": 375,
   "metadata": {},
   "outputs": [],
   "source": [
    "Y_train=Y_train.values"
   ]
  },
  {
   "cell_type": "code",
   "execution_count": 376,
   "metadata": {},
   "outputs": [],
   "source": [
    "\n",
    "from sklearn.linear_model import LogisticRegression\n",
    "model = LogisticRegression()"
   ]
  },
  {
   "cell_type": "code",
   "execution_count": 377,
   "metadata": {},
   "outputs": [
    {
     "name": "stderr",
     "output_type": "stream",
     "text": [
      "C:\\Users\\Anirban\\Anaconda3\\lib\\site-packages\\sklearn\\linear_model\\logistic.py:433: FutureWarning: Default solver will be changed to 'lbfgs' in 0.22. Specify a solver to silence this warning.\n",
      "  FutureWarning)\n"
     ]
    },
    {
     "data": {
      "text/plain": [
       "LogisticRegression(C=1.0, class_weight=None, dual=False, fit_intercept=True,\n",
       "          intercept_scaling=1, max_iter=100, multi_class='warn',\n",
       "          n_jobs=None, penalty='l2', random_state=None, solver='warn',\n",
       "          tol=0.0001, verbose=0, warm_start=False)"
      ]
     },
     "execution_count": 377,
     "metadata": {},
     "output_type": "execute_result"
    }
   ],
   "source": [
    "model.fit(X_train, Y_train)"
   ]
  },
  {
   "cell_type": "code",
   "execution_count": 383,
   "metadata": {},
   "outputs": [
    {
     "data": {
      "text/plain": [
       "array(['notckd', 'ckd', 'notckd', 'notckd', 'ckd', 'notckd', 'ckd',\n",
       "       'notckd', 'ckd', 'notckd', 'ckd', 'notckd', 'ckd', 'notckd',\n",
       "       'notckd', 'ckd', 'notckd', 'ckd', 'ckd', 'ckd', 'ckd', 'ckd',\n",
       "       'notckd', 'ckd', 'ckd', 'ckd', 'notckd', 'ckd', 'notckd', 'ckd',\n",
       "       'ckd', 'ckd', 'ckd', 'notckd', 'ckd', 'ckd', 'ckd', 'ckd',\n",
       "       'notckd', 'ckd', 'notckd', 'ckd', 'ckd', 'ckd', 'notckd', 'ckd',\n",
       "       'notckd', 'notckd', 'notckd', 'notckd', 'ckd', 'ckd', 'ckd', 'ckd',\n",
       "       'notckd', 'notckd', 'notckd', 'notckd', 'notckd', 'notckd', 'ckd',\n",
       "       'ckd', 'notckd', 'ckd', 'notckd', 'ckd', 'ckd', 'notckd', 'notckd',\n",
       "       'notckd', 'ckd', 'ckd', 'notckd', 'notckd', 'ckd', 'notckd', 'ckd',\n",
       "       'ckd', 'ckd', 'ckd'], dtype=object)"
      ]
     },
     "execution_count": 383,
     "metadata": {},
     "output_type": "execute_result"
    }
   ],
   "source": [
    "\n",
    "Y_pred=model.predict(X_test)\n",
    "Y_pred"
   ]
  },
  {
   "cell_type": "code",
   "execution_count": 384,
   "metadata": {},
   "outputs": [],
   "source": [
    "from sklearn.metrics import classification_report"
   ]
  },
  {
   "cell_type": "code",
   "execution_count": 385,
   "metadata": {},
   "outputs": [
    {
     "data": {
      "text/plain": [
       "'              precision    recall  f1-score   support\\n\\n         ckd       1.00      0.96      0.98        47\\n      notckd       0.94      1.00      0.97        33\\n\\n   micro avg       0.97      0.97      0.97        80\\n   macro avg       0.97      0.98      0.97        80\\nweighted avg       0.98      0.97      0.98        80\\n'"
      ]
     },
     "execution_count": 385,
     "metadata": {},
     "output_type": "execute_result"
    }
   ],
   "source": [
    "classification_report(Y_test,Y_pred)"
   ]
  },
  {
   "cell_type": "code",
   "execution_count": 386,
   "metadata": {},
   "outputs": [],
   "source": [
    "from sklearn.metrics import confusion_matrix"
   ]
  },
  {
   "cell_type": "code",
   "execution_count": 387,
   "metadata": {},
   "outputs": [
    {
     "data": {
      "text/plain": [
       "array([[45,  2],\n",
       "       [ 0, 33]], dtype=int64)"
      ]
     },
     "execution_count": 387,
     "metadata": {},
     "output_type": "execute_result"
    }
   ],
   "source": [
    "confusion_matrix(Y_test,Y_pred)"
   ]
  },
  {
   "cell_type": "code",
   "execution_count": 388,
   "metadata": {},
   "outputs": [],
   "source": [
    "from sklearn.metrics import accuracy_score"
   ]
  },
  {
   "cell_type": "code",
   "execution_count": 389,
   "metadata": {},
   "outputs": [
    {
     "data": {
      "text/plain": [
       "0.975"
      ]
     },
     "execution_count": 389,
     "metadata": {},
     "output_type": "execute_result"
    }
   ],
   "source": [
    "accuracy_score(Y_test,Y_pred)"
   ]
  },
  {
   "cell_type": "code",
   "execution_count": null,
   "metadata": {},
   "outputs": [],
   "source": []
  }
 ],
 "metadata": {
  "kernelspec": {
   "display_name": "Python 3",
   "language": "python",
   "name": "python3"
  },
  "language_info": {
   "codemirror_mode": {
    "name": "ipython",
    "version": 3
   },
   "file_extension": ".py",
   "mimetype": "text/x-python",
   "name": "python",
   "nbconvert_exporter": "python",
   "pygments_lexer": "ipython3",
   "version": "3.7.1"
  }
 },
 "nbformat": 4,
 "nbformat_minor": 2
}
